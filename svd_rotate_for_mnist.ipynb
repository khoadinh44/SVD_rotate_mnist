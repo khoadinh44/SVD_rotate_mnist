{
  "nbformat": 4,
  "nbformat_minor": 0,
  "metadata": {
    "colab": {
      "name": "svd_rotate_for_mnist.ipynb",
      "provenance": []
    },
    "kernelspec": {
      "name": "python3",
      "display_name": "Python 3"
    },
    "language_info": {
      "name": "python"
    },
    "accelerator": "GPU"
  },
  "cells": [
    {
      "cell_type": "code",
      "metadata": {
        "colab": {
          "base_uri": "https://localhost:8080/"
        },
        "id": "P0C_79tTVd2m",
        "outputId": "6ed657b3-6b7e-4b05-a3d7-12dce8ff43ec"
      },
      "source": [
        "%tensorflow_version 1.x\n",
        "import tensorflow as tf\n",
        "print(tf.__version__)"
      ],
      "execution_count": 1,
      "outputs": [
        {
          "output_type": "stream",
          "text": [
            "TensorFlow 1.x selected.\n",
            "1.15.2\n"
          ],
          "name": "stdout"
        }
      ]
    },
    {
      "cell_type": "code",
      "metadata": {
        "id": "nExSlKISVI0M"
      },
      "source": [
        "import numpy as np\n",
        "import matplotlib.pyplot as plt\n",
        "from datetime import datetime\n",
        "from tensorflow.keras.datasets import mnist\n",
        "from tensorflow.contrib.layers import batch_norm, fully_connected\n",
        "\n",
        "\n",
        "def reset_graph(seed=42):\n",
        "    tf.reset_default_graph()\n",
        "    tf.set_random_seed(seed)\n",
        "    np.random.seed(seed)"
      ],
      "execution_count": 3,
      "outputs": []
    },
    {
      "cell_type": "code",
      "metadata": {
        "colab": {
          "base_uri": "https://localhost:8080/"
        },
        "id": "f0cJD7yxVXwE",
        "outputId": "6fc4ab75-bde1-4229-85f0-70463e241908"
      },
      "source": [
        "\n",
        "reset_graph()\n",
        "'''Preparing===================================================================='''\n",
        "(X_train, y_train), (X_test, y_test) = mnist.load_data()\n",
        "n_inputs = 28*28\n",
        "n_hidden1 = 300\n",
        "n_hidden2 = 100\n",
        "n_outputs = 10\n",
        "\n",
        "X_train1 = X_train[:3000]\n",
        "y_train1 = y_train[:3000].astype(np.int32)\n",
        "X_test1 = X_test[:1000]\n",
        "y_test1 = y_test[:1000].astype(np.int32)\n",
        "\n",
        "'''Using SVD to rotate image===================================================='''\n",
        "sigma = 1\n",
        "def svd(all_images):\n",
        "    new_all_images = []\n",
        "    for image in all_images:\n",
        "        U, S, VT = np.linalg.svd(image, full_matrices=0)\n",
        "        N = 28\n",
        "        cutoff = (4 / np.sqrt(3)) * np.sqrt(N) * sigma\n",
        "        r = np.min(np.where(S > cutoff))\n",
        "        \n",
        "        new_image = U[:, :(r+1)] @ np.diag(S[ :(r+1)]) @ VT[ :(r+1), :]\n",
        "        new_all_images.append(new_image)\n",
        "    return new_all_images\n",
        "'''============================================================================='''\n",
        "\n",
        "X_train = np.array(svd(X_train1)).astype(np.float32) / 255.0\n",
        "X_test = np.array(svd(X_test1)).astype(np.float32) / 255.0\n",
        "\n",
        "X_train = X_train.reshape(3000, 28*28)\n",
        "X_test = X_test.reshape(1000, 28*28)\n",
        "\n",
        "# def one_hot(inputs):\n",
        "#     one_hot_encoded = np.zeros((len(inputs), 10))\n",
        "#     for i, j in enumerate(inputs):\n",
        "#         one_hot_encoded[i][j] = 1\n",
        "#     return one_hot_encoded\n",
        "\n",
        "# y_train = one_hot(y_train)\n",
        "# y_test = one_hot(y_test)\n",
        "\n",
        "m_train, n_train = X_train.shape\n",
        "\n",
        "n_epochs = 5\n",
        "batch_size = 50\n",
        "n_batches = int(np.ceil(m_train/batch_size))\n",
        "\n",
        "config = tf.ConfigProto()\n",
        "config.log_device_placement = True\n",
        "\n",
        "def fetch_batch(epoch, batch_index):\n",
        "    np.random.seed(epoch*n_batches + batch_index)\n",
        "    indices = np.random.randint(m_train, size=batch_size)\n",
        "    X_batch = X_train[indices]\n",
        "    y_batch = y_train[indices]\n",
        "    return X_train, y_train\n",
        "\n",
        "'''placeholder=================================================================='''\n",
        "with tf.device(tf.train.replica_device_setter(ps_tasks=2,\n",
        "                                              ps_device='/job:ps',\n",
        "                                              worker_device='/job:worker')):\n",
        "    X = tf.placeholder(dtype=tf.float32, shape=(None, 28*28), name='X')\n",
        "    y = tf.placeholder(dtype=tf.int32, shape=(None), name='y')\n",
        "\n",
        "    \n",
        "is_training = tf.placeholder_with_default(False, shape=(), name='is_training')\n",
        "bn_params = {\n",
        " 'is_training': is_training,\n",
        " 'decay': 0.99,\n",
        " 'updates_collections': None\n",
        "}\n",
        "\n",
        "with tf.device('/job:ps/task:0'):\n",
        "    '''hidden layer=================================================================================================='''\n",
        "    hidden1 = fully_connected(X, n_hidden1, scope=\"hidden1\", normalizer_fn=batch_norm, normalizer_params=bn_params)\n",
        "\n",
        "    hidden2 = fully_connected(hidden1, n_hidden2, scope=\"hidden2\", normalizer_fn=batch_norm, normalizer_params=bn_params)\n",
        "\n",
        "    logits = fully_connected(hidden2, n_outputs, activation_fn=None,scope=\"outputs\", normalizer_fn=batch_norm, normalizer_params=bn_params)\n",
        "\n",
        "with tf.device('/job:worker/task:0'):\n",
        "    '''Loss====================================================================='''\n",
        "    xentropy = tf.nn.sparse_softmax_cross_entropy_with_logits(labels=y, logits=logits)\n",
        "    loss = tf.reduce_mean(xentropy, name='loss')\n",
        "\n",
        "'''optimizer===================================================================='''\n",
        "def learning_schedule(t):\n",
        "    return 1 / (100 * (t+1))\n",
        "\n",
        "t = tf.placeholder(dtype=tf.float32, shape=(None))\n",
        "\n",
        "with tf.device('/job:worker/task:1'):\n",
        "    optimizer = tf.train.AdamOptimizer(learning_rate=learning_schedule(t))\n",
        "    training_op = optimizer.minimize(loss)\n",
        "\n",
        "'''accuracy====================================================================='''\n",
        "with tf.device('/job:worker/task:2'):\n",
        "    correct = tf.nn.in_top_k(logits, y, 1)\n",
        "    accuracy = tf.reduce_mean(tf.cast(correct, tf.float32))\n",
        "\n",
        "with tf.Session('grpc://127.0.0.1:2221', config=config) as sess:\n",
        "\n",
        "    sess.run(tf.global_variables_initializer())\n",
        "    for epoch in range(n_epochs):\n",
        "        for batch_index in range(n_batches):\n",
        "            X_batch, y_batch = fetch_batch(epoch, batch_index)\n",
        "            _accuracy, _loss, _ = sess.run([accuracy, loss, training_op], feed_dict={X: X_batch, y: y_batch, t: epoch})\n",
        "        _test_accuracy = sess.run(accuracy, feed_dict={X: X_test, y: y_test})\n",
        "        print(\"\\t\\tEpoch: {} \\ttLoss: {}, \\tTrain_Accuracy: {} \\tTest_Accuracy: {}\".format(epoch, _loss, _accuracy*100, _test_accuracy*100))"
      ],
      "execution_count": null,
      "outputs": [
        {
          "output_type": "stream",
          "text": [
            "Downloading data from https://storage.googleapis.com/tensorflow/tf-keras-datasets/mnist.npz\n",
            "11493376/11490434 [==============================] - 0s 0us/step\n",
            "WARNING:tensorflow:From /tensorflow-1.15.2/python3.7/tensorflow_core/contrib/layers/python/layers/layers.py:1866: Layer.apply (from tensorflow.python.keras.engine.base_layer) is deprecated and will be removed in a future version.\n",
            "Instructions for updating:\n",
            "Please use `layer.__call__` method instead.\n"
          ],
          "name": "stdout"
        }
      ]
    },
    {
      "cell_type": "code",
      "metadata": {
        "id": "vXoNQ0iIVaqR"
      },
      "source": [
        ""
      ],
      "execution_count": null,
      "outputs": []
    }
  ]
}