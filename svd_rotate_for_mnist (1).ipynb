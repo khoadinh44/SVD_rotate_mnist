{
  "nbformat": 4,
  "nbformat_minor": 0,
  "metadata": {
    "colab": {
      "name": "svd_rotate_for_mnist.ipynb",
      "provenance": [],
      "collapsed_sections": []
    },
    "kernelspec": {
      "name": "python3",
      "display_name": "Python 3"
    },
    "language_info": {
      "name": "python"
    },
    "accelerator": "GPU"
  },
  "cells": [
    {
      "cell_type": "code",
      "metadata": {
        "colab": {
          "base_uri": "https://localhost:8080/"
        },
        "id": "P0C_79tTVd2m",
        "outputId": "58aa8ef1-aa36-465e-aef3-7ab1f3e17f44"
      },
      "source": [
        "%tensorflow_version 1.x\n",
        "import tensorflow as tf\n",
        "print(tf.__version__)"
      ],
      "execution_count": 1,
      "outputs": [
        {
          "output_type": "stream",
          "text": [
            "TensorFlow 1.x selected.\n",
            "1.15.2\n"
          ],
          "name": "stdout"
        }
      ]
    },
    {
      "cell_type": "code",
      "metadata": {
        "id": "nExSlKISVI0M"
      },
      "source": [
        "import numpy as np\n",
        "import matplotlib.pyplot as plt\n",
        "from datetime import datetime\n",
        "from tensorflow.keras.datasets import mnist\n",
        "from tensorflow.contrib.layers import batch_norm, fully_connected\n",
        "\n",
        "\n",
        "def reset_graph(seed=42):\n",
        "    tf.reset_default_graph()\n",
        "    tf.set_random_seed(seed)\n",
        "    np.random.seed(seed)"
      ],
      "execution_count": 11,
      "outputs": []
    },
    {
      "cell_type": "code",
      "metadata": {
        "id": "vHMHSq5FPgtW"
      },
      "source": [
        "\n",
        "reset_graph()\n",
        "'''Preparing===================================================================='''\n",
        "(X_train, y_train), (X_test, y_test) = mnist.load_data()\n",
        "n_inputs = 28*28\n",
        "n_hidden1 = 300\n",
        "n_hidden2 = 100\n",
        "n_outputs = 10\n",
        "\n",
        "n_train = 60000\n",
        "n_test = 10000\n",
        "\n",
        "X_train1 = X_train[:n_train]\n",
        "y_train1 = y_train[:n_train].astype(np.int32)\n",
        "X_test1 = X_test[:n_test]\n",
        "y_test1 = y_test[:n_test].astype(np.int32)\n",
        "\n",
        "'''Using SVD to rotate image===================================================='''\n",
        "sigma = 1\n",
        "def svd(all_images):\n",
        "    new_all_images = []\n",
        "    for image in all_images:\n",
        "        U, S, VT = np.linalg.svd(image, full_matrices=0)\n",
        "        N = 28\n",
        "        cutoff = (4 / np.sqrt(3)) * np.sqrt(N) * sigma\n",
        "        r = np.max(np.where(S > cutoff))\n",
        "        \n",
        "        new_image = U[:, :(r+1)] @ np.diag(S[ :(r+1)]) @ VT[ :(r+1), :]\n",
        "        new_all_images.append(new_image)\n",
        "    return new_all_images\n",
        "'''============================================================================='''\n",
        "\n",
        "X_train = np.array(svd(X_train1)).astype(np.float32) / 255.0\n",
        "X_test = np.array(svd(X_test1)).astype(np.float32) / 255.0\n",
        "\n",
        "X_train = X_train.reshape(n_train, 28*28)\n",
        "X_test = X_test.reshape(n_test, 28*28)\n",
        "y_train = y_train1\n",
        "y_test = y_test1"
      ],
      "execution_count": 22,
      "outputs": []
    },
    {
      "cell_type": "code",
      "metadata": {
        "colab": {
          "base_uri": "https://localhost:8080/"
        },
        "id": "f0cJD7yxVXwE",
        "outputId": "8ab3af20-cde5-48a2-f578-bcc92000eda8"
      },
      "source": [
        "m_train, n_train = X_train.shape\n",
        "print(X_train.shape)\n",
        "\n",
        "n_epochs = 11\n",
        "batch_size = 50\n",
        "n_batches = int(np.ceil(m_train/batch_size))\n",
        "\n",
        "def fetch_batch(epoch, batch_index):\n",
        "    np.random.seed(epoch*n_batches + batch_index)\n",
        "    indices = np.random.randint(m_train, size=batch_size)\n",
        "    X_batch = X_train[indices]\n",
        "    y_batch = y_train[indices]\n",
        "    return X_train, y_train\n",
        "\n",
        "'''placeholder==============================================='''\n",
        "X = tf.placeholder(dtype=tf.float32, shape=(None, 28*28), name='X')\n",
        "y = tf.placeholder(dtype=tf.int32, shape=(None), name='y')\n",
        "\n",
        "\n",
        "is_training = tf.placeholder_with_default(False, shape=(), name='is_training')\n",
        "bn_params = {\n",
        " 'is_training': is_training,\n",
        " 'decay': 0.99,\n",
        " 'updates_collections': None\n",
        "}\n",
        "\n",
        "'''hidden layer=================================================================================================='''\n",
        "hidden1 = fully_connected(X, n_hidden1, scope=\"hidden1\", normalizer_fn=batch_norm, normalizer_params=bn_params)\n",
        "\n",
        "hidden2 = fully_connected(hidden1, n_hidden2, scope=\"hidden2\", normalizer_fn=batch_norm, normalizer_params=bn_params)\n",
        "\n",
        "logits = fully_connected(hidden2, n_outputs, activation_fn=None,scope=\"outputs\", normalizer_fn=batch_norm, normalizer_params=bn_params)\n",
        "\n",
        "'''Loss======================================='''\n",
        "xentropy = tf.nn.sparse_softmax_cross_entropy_with_logits(labels=y, logits=logits)\n",
        "loss = tf.reduce_mean(xentropy, name='loss')\n",
        "\n",
        "'''optimizer==============================================================='''\n",
        "def learning_schedule(t):\n",
        "    return 1 / (100 * (t+1))\n",
        "\n",
        "t = tf.placeholder(dtype=tf.float32, shape=(None))\n",
        "\n",
        "optimizer = tf.train.AdamOptimizer(learning_rate=learning_schedule(t))\n",
        "training_op = optimizer.minimize(loss)\n",
        "\n",
        "'''accuracy======================================================================================'''\n",
        "correct = tf.nn.in_top_k(logits, y, 1)\n",
        "accuracy = tf.reduce_mean(tf.cast(correct, tf.float32))\n",
        "\n",
        "with tf.Session() as sess:\n",
        "    sess.run(tf.global_variables_initializer())\n",
        "    for epoch in range(n_epochs):\n",
        "        for batch_index in range(n_batches):\n",
        "            X_batch, y_batch = fetch_batch(epoch, batch_index)\n",
        "            _accuracy, _loss, _ = sess.run([accuracy, loss, training_op], feed_dict={X: X_batch, y: y_batch, t: epoch})\n",
        "        _test_accuracy = sess.run(accuracy, feed_dict={X: X_test, y: y_test})\n",
        "        if (epoch % 5 == 0):\n",
        "          print(\"\\t\\tEpoch: {} \\ttLoss: {}, \\tTrain_Accuracy: {} \\tTest_Accuracy: {}\".format(epoch, _loss, _accuracy*100, _test_accuracy*100))"
      ],
      "execution_count": null,
      "outputs": [
        {
          "output_type": "stream",
          "text": [
            "(60000, 784)\n",
            "\t\tEpoch: 0 \ttLoss: 1.9295901438454166e-05, \tTrain_Accuracy: 100.0 \tTest_Accuracy: 97.58999943733215\n"
          ],
          "name": "stdout"
        }
      ]
    },
    {
      "cell_type": "markdown",
      "metadata": {
        "id": "VTvI8UFxQiRS"
      },
      "source": [
        "# Test-2: Don't use SVD"
      ]
    },
    {
      "cell_type": "code",
      "metadata": {
        "id": "vXoNQ0iIVaqR",
        "colab": {
          "base_uri": "https://localhost:8080/"
        },
        "outputId": "32c4ec13-b4b0-44fe-ca92-aa111e0008dd"
      },
      "source": [
        "from tensorflow.keras.datasets import mnist\n",
        "from tensorflow.contrib.layers import batch_norm, fully_connected\n",
        "reset_graph()\n",
        "'''Preparing==============================================='''\n",
        "(X_train, y_train), (X_test, y_test) = mnist.load_data()\n",
        "n_inputs = 28*28\n",
        "n_hidden1 = 300\n",
        "n_hidden2 = 100\n",
        "n_outputs = 10\n",
        "\n",
        "X_train = X_train[:3000].reshape(len(X_train[:3000]), 28*28).astype(np.float32)/255.0\n",
        "y_train = y_train[:3000].astype(np.int32)\n",
        "X_test = X_test[:1000].reshape(len(X_test[:1000]), 28*28).astype(np.float32)/255.0\n",
        "y_test = y_test[:1000].astype(np.int32)\n",
        "\n",
        "# def one_hot(inputs):\n",
        "#     one_hot_encoded = np.zeros((len(inputs), 10))\n",
        "#     for i, j in enumerate(inputs):\n",
        "#         one_hot_encoded[i][j] = 1\n",
        "#     return one_hot_encoded\n",
        "\n",
        "# y_train = one_hot(y_train)\n",
        "# y_test = one_hot(y_test)\n",
        "\n",
        "m_train, n_train = X_train.shape\n",
        "print(X_train.shape)\n",
        "\n",
        "n_epochs = 101\n",
        "batch_size = 50\n",
        "n_batches = int(np.ceil(m_train/batch_size))\n",
        "\n",
        "def fetch_batch(epoch, batch_index):\n",
        "    np.random.seed(epoch*n_batches + batch_index)\n",
        "    indices = np.random.randint(m_train, size=batch_size)\n",
        "    X_batch = X_train[indices]\n",
        "    y_batch = y_train[indices]\n",
        "    return X_train, y_train\n",
        "\n",
        "'''placeholder==============================================='''\n",
        "X = tf.placeholder(dtype=tf.float32, shape=(None, 28*28), name='X')\n",
        "y = tf.placeholder(dtype=tf.int32, shape=(None), name='y')\n",
        "\n",
        "\n",
        "is_training = tf.placeholder_with_default(False, shape=(), name='is_training')\n",
        "bn_params = {\n",
        " 'is_training': is_training,\n",
        " 'decay': 0.99,\n",
        " 'updates_collections': None\n",
        "}\n",
        "\n",
        "'''hidden layer=================================================================================================='''\n",
        "hidden1 = fully_connected(X, n_hidden1, scope=\"hidden1\", normalizer_fn=batch_norm, normalizer_params=bn_params)\n",
        "\n",
        "hidden2 = fully_connected(hidden1, n_hidden2, scope=\"hidden2\", normalizer_fn=batch_norm, normalizer_params=bn_params)\n",
        "\n",
        "logits = fully_connected(hidden2, n_outputs, activation_fn=None,scope=\"outputs\", normalizer_fn=batch_norm, normalizer_params=bn_params)\n",
        "\n",
        "'''Loss======================================='''\n",
        "xentropy = tf.nn.sparse_softmax_cross_entropy_with_logits(labels=y, logits=logits)\n",
        "loss = tf.reduce_mean(xentropy, name='loss')\n",
        "\n",
        "'''optimizer==============================================================='''\n",
        "def learning_schedule(t):\n",
        "    return 1 / (100 * (t+1))\n",
        "\n",
        "t = tf.placeholder(dtype=tf.float32, shape=(None))\n",
        "\n",
        "optimizer = tf.train.AdamOptimizer(learning_rate=learning_schedule(t))\n",
        "training_op = optimizer.minimize(loss)\n",
        "\n",
        "'''accuracy======================================================================================'''\n",
        "correct = tf.nn.in_top_k(logits, y, 1)\n",
        "accuracy = tf.reduce_mean(tf.cast(correct, tf.float32))\n",
        "\n",
        "with tf.Session() as sess:\n",
        "    sess.run(tf.global_variables_initializer())\n",
        "    for epoch in range(n_epochs):\n",
        "        for batch_index in range(n_batches):\n",
        "            X_batch, y_batch = fetch_batch(epoch, batch_index)\n",
        "            _accuracy, _loss, _ = sess.run([accuracy, loss, training_op], feed_dict={X: X_batch, y: y_batch, t: epoch})\n",
        "        _test_accuracy = sess.run(accuracy, feed_dict={X: X_test, y: y_test})\n",
        "        if (epoch % 50 == 0):\n",
        "          print(\"\\t\\tEpoch: {} \\ttLoss: {}, \\tTrain_Accuracy: {} \\tTest_Accuracy: {}\".format(epoch, _loss, _accuracy*100, _test_accuracy*100))"
      ],
      "execution_count": 21,
      "outputs": [
        {
          "output_type": "stream",
          "text": [
            "(3000, 784)\n",
            "\t\tEpoch: 0 \ttLoss: 0.005409108940511942, \tTrain_Accuracy: 99.9666690826416 \tTest_Accuracy: 92.29999780654907\n",
            "\t\tEpoch: 50 \ttLoss: 3.579313124646433e-05, \tTrain_Accuracy: 100.0 \tTest_Accuracy: 92.69999861717224\n",
            "\t\tEpoch: 100 \ttLoss: 1.1595784599194303e-05, \tTrain_Accuracy: 100.0 \tTest_Accuracy: 92.79999732971191\n"
          ],
          "name": "stdout"
        }
      ]
    },
    {
      "cell_type": "code",
      "metadata": {
        "id": "IOLdzVn2Q3ir"
      },
      "source": [
        ""
      ],
      "execution_count": null,
      "outputs": []
    }
  ]
}